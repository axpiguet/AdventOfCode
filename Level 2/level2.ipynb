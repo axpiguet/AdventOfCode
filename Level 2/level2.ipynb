{
 "cells": [
  {
   "cell_type": "code",
   "execution_count": 1,
   "metadata": {},
   "outputs": [],
   "source": [
    "import numpy as np\n",
    "from collections import Counter"
   ]
  },
  {
   "cell_type": "markdown",
   "metadata": {},
   "source": [
    "-------------- PART 1 --------------"
   ]
  },
  {
   "cell_type": "markdown",
   "metadata": {},
   "source": [
    "Load the data"
   ]
  },
  {
   "cell_type": "code",
   "execution_count": 2,
   "metadata": {},
   "outputs": [],
   "source": [
    "data = []\n",
    "with open(\"input.txt\", \"r\") as file:\n",
    "    for line in file:\n",
    "        data.append([int(x) for x in line.split()])"
   ]
  },
  {
   "cell_type": "markdown",
   "metadata": {},
   "source": [
    "Check safeness of sequences"
   ]
  },
  {
   "cell_type": "code",
   "execution_count": 3,
   "metadata": {},
   "outputs": [
    {
     "name": "stdout",
     "output_type": "stream",
     "text": [
      "There are 236 safe reports !\n"
     ]
    }
   ],
   "source": [
    "is_safe = np.zeros(len(data))\n",
    "for i in range(len(data)):\n",
    "    difference = np.diff(data[i])\n",
    "    if np.all(difference >= 1) or np.all(difference <= -1) :    # combines \"same sign\" and \"at least 1 difference\" testing\n",
    "        is_safe[i] = np.all(np.abs(difference) <= 3)\n",
    "\n",
    "print(f\"There are {np.sum(is_safe):.0f} safe reports !\")"
   ]
  },
  {
   "cell_type": "markdown",
   "metadata": {},
   "source": [
    "-------------- PART 2 --------------"
   ]
  },
  {
   "cell_type": "markdown",
   "metadata": {},
   "source": [
    "Turn the safeness check into a function"
   ]
  },
  {
   "cell_type": "code",
   "execution_count": 4,
   "metadata": {},
   "outputs": [],
   "source": [
    "def safeness(report):\n",
    "    difference = np.diff(report)\n",
    "    if np.all(difference >= 1) or np.all(difference <= -1) :    # combines \"same sign\" and \"at least 1 difference\" testing\n",
    "        return np.all(np.abs(difference) <= 3)\n",
    "    else : \n",
    "        return 0 "
   ]
  },
  {
   "cell_type": "markdown",
   "metadata": {},
   "source": [
    "Implement special tolerance"
   ]
  },
  {
   "cell_type": "code",
   "execution_count": 5,
   "metadata": {},
   "outputs": [
    {
     "name": "stdout",
     "output_type": "stream",
     "text": [
      "There are 308 safe reports !\n"
     ]
    }
   ],
   "source": [
    "is_safe = np.zeros(len(data))\n",
    "\n",
    "for i in range(len(data)):\n",
    "    safe = safeness(data[i])\n",
    "    report = data[i]\n",
    "\n",
    "    # Case : the original sequence is not safe\n",
    "    if not safe :   \n",
    "        difference = np.diff(data[i])\n",
    "        outrange_difference = difference[(np.abs(difference) < 1) | (np.abs(difference) > 3)]\n",
    "        least_common = Counter(np.sign(difference)).most_common()[-1]\n",
    "\n",
    "        # Case : the original sequence is not monotonic (one points only causes the issue)\n",
    "        if least_common[1] == 1 :       \n",
    "            pb_idx = np.sign(difference).tolist().index(least_common[0])        # problematic area of the sequence\n",
    "            # Try removing on of the 2 values that delimit the problematic area then test\n",
    "            report = data[i][:pb_idx+1] + data[i][pb_idx+2:]\n",
    "            safe = safeness(report)\n",
    "            if not safe :\n",
    "                report = data[i][:pb_idx] + data[i][pb_idx+1:]\n",
    "                safe = safeness(report)\n",
    "\n",
    "        # Case : one value is too close or too far from its neighbors\n",
    "        elif len(outrange_difference) == 1 : \n",
    "            pb_idx = difference.tolist().index(outrange_difference)             # problematic area of the sequence \n",
    "            # Try removing on of the 2 values that delimit the problematic area then test\n",
    "            report = data[i][:pb_idx+1] + data[i][pb_idx+2:]\n",
    "            safe = safeness(report)\n",
    "            if not safe :\n",
    "                report = data[i][:pb_idx] + data[i][pb_idx+1:]\n",
    "                safe = safeness(report)\n",
    "\n",
    "    is_safe[i]  = safe\n",
    "\n",
    "print(f\"There are {np.sum(is_safe):.0f} safe reports !\")"
   ]
  }
 ],
 "metadata": {
  "kernelspec": {
   "display_name": "StimEMG_RNN",
   "language": "python",
   "name": "python3"
  },
  "language_info": {
   "codemirror_mode": {
    "name": "ipython",
    "version": 3
   },
   "file_extension": ".py",
   "mimetype": "text/x-python",
   "name": "python",
   "nbconvert_exporter": "python",
   "pygments_lexer": "ipython3",
   "version": "3.8.8"
  }
 },
 "nbformat": 4,
 "nbformat_minor": 2
}
