{
 "cells": [
  {
   "cell_type": "code",
   "execution_count": 1,
   "id": "c23d2f9e",
   "metadata": {},
   "outputs": [],
   "source": [
    "import numpy as np\n",
    "import re"
   ]
  },
  {
   "cell_type": "markdown",
   "id": "d5e1e145",
   "metadata": {},
   "source": [
    "-------------- PART 1 --------------"
   ]
  },
  {
   "cell_type": "markdown",
   "id": "b936887d",
   "metadata": {},
   "source": [
    "Load the data"
   ]
  },
  {
   "cell_type": "code",
   "execution_count": 2,
   "id": "cfad3a27",
   "metadata": {},
   "outputs": [],
   "source": [
    "with open(\"input.txt\", \"r\", encoding=\"utf-8\") as f:\n",
    "    text = f.read()"
   ]
  },
  {
   "cell_type": "markdown",
   "id": "decf22cf",
   "metadata": {},
   "source": [
    "Extract all the correct \"mul\" substrings"
   ]
  },
  {
   "cell_type": "code",
   "execution_count": 3,
   "id": "ce538d4c",
   "metadata": {},
   "outputs": [],
   "source": [
    "\n",
    "matches = re.findall(r\"mul\\(\\d{1,3},\\d{1,3}\\)\", text)"
   ]
  },
  {
   "cell_type": "code",
   "execution_count": 18,
   "id": "5f6ce172",
   "metadata": {},
   "outputs": [
    {
     "name": "stdout",
     "output_type": "stream",
     "text": [
      "The total is 171183089 !\n"
     ]
    }
   ],
   "source": [
    "numberA =[]\n",
    "numberB =[]\n",
    "for mul in matches : \n",
    "    pair = re.findall(r\"(\\d{1,3})\", mul)\n",
    "    pair_int = tuple(int(x) for x in pair)  # convert to tuple of ints\n",
    "    numberA.append(pair_int[0])\n",
    "    numberB.append(pair_int[1])\n",
    "\n",
    "print(f\"The total is {np.dot(numberA , numberB):.0f} !\")"
   ]
  },
  {
   "cell_type": "markdown",
   "id": "92ae2a6c",
   "metadata": {},
   "source": [
    "-------------- PART 2 --------------"
   ]
  },
  {
   "cell_type": "markdown",
   "id": "757851c7",
   "metadata": {},
   "source": [
    "Extract all the correct \"mul\" substrings and the do's & don't"
   ]
  },
  {
   "cell_type": "code",
   "execution_count": 21,
   "id": "3693a648",
   "metadata": {},
   "outputs": [],
   "source": [
    "matches = re.findall(r\"mul\\(\\d{1,3},\\d{1,3}\\)|do\\(\\)|don't\\(\\)\", text)"
   ]
  },
  {
   "cell_type": "code",
   "execution_count": 20,
   "id": "cafe29ed",
   "metadata": {},
   "outputs": [
    {
     "name": "stdout",
     "output_type": "stream",
     "text": [
      "The total is 63866497 !\n"
     ]
    }
   ],
   "source": [
    "do_sum = 0 \n",
    "go = True\n",
    "for mul in matches : \n",
    "\n",
    "    if mul == \"do()\" :\n",
    "        go = True\n",
    "    elif mul == \"don't()\" : \n",
    "        go = False\n",
    "    elif go :\n",
    "        pair = re.findall(r\"(\\d{1,3})\", mul)\n",
    "        pair_int = tuple(int(x) for x in pair)  # convert to tuple of ints\n",
    "        do_sum = do_sum + (pair_int[0] * pair_int[1])\n",
    "\n",
    "print(f\"The total is {do_sum:.0f} !\")"
   ]
  }
 ],
 "metadata": {
  "kernelspec": {
   "display_name": "StimEMG_RNN",
   "language": "python",
   "name": "python3"
  },
  "language_info": {
   "codemirror_mode": {
    "name": "ipython",
    "version": 3
   },
   "file_extension": ".py",
   "mimetype": "text/x-python",
   "name": "python",
   "nbconvert_exporter": "python",
   "pygments_lexer": "ipython3",
   "version": "3.8.8"
  }
 },
 "nbformat": 4,
 "nbformat_minor": 5
}
