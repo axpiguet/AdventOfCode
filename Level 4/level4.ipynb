{
 "cells": [
  {
   "cell_type": "code",
   "execution_count": 5,
   "id": "598abbaa",
   "metadata": {},
   "outputs": [],
   "source": [
    "import numpy as np"
   ]
  },
  {
   "cell_type": "markdown",
   "id": "2b70405b",
   "metadata": {},
   "source": [
    "-------------- PART 1 --------------"
   ]
  },
  {
   "cell_type": "markdown",
   "id": "c523477b",
   "metadata": {},
   "source": [
    "Load the text in a 2d array"
   ]
  },
  {
   "cell_type": "code",
   "execution_count": 99,
   "id": "fa10c740",
   "metadata": {},
   "outputs": [
    {
     "name": "stdout",
     "output_type": "stream",
     "text": [
      "(140, 140)\n"
     ]
    }
   ],
   "source": [
    "with open(\"input.txt\", \"r\", encoding=\"utf-8\") as f:\n",
    "    lines = f.read().splitlines()\n",
    "\n",
    "text = np.array([list(line) for line in lines])\n",
    "print(text.shape)"
   ]
  },
  {
   "cell_type": "markdown",
   "id": "50c38ff3",
   "metadata": {},
   "source": [
    "Useful function to find XMAS (some will be used on transposed and flipped text to browse different directions)"
   ]
  },
  {
   "cell_type": "code",
   "execution_count": 78,
   "id": "2e9c10eb",
   "metadata": {},
   "outputs": [],
   "source": [
    "def is_Xmas_horizontal(X_row, X_col, data) : \n",
    "    return ''.join(data[X_row][X_col : X_col+4]) == \"XMAS\"\n",
    "    "
   ]
  },
  {
   "cell_type": "code",
   "execution_count": 79,
   "id": "e5cf698b",
   "metadata": {},
   "outputs": [],
   "source": [
    "def is_Xmas_diagFWD(X_row, X_col, data) : \n",
    "    if (X_row < data.shape[0] -3) and (X_col < data.shape[1] -3):\n",
    "        word = ''.join(['X' , data[X_row+1][X_col+1] , data[X_row+2][X_col+2], data[X_row+3][X_col+3]])\n",
    "        return word == \"XMAS\"\n",
    "    else: \n",
    "        return 0 \n",
    "\n",
    "def is_Xmas_diagBKWD(X_row, X_col, data) : \n",
    "    if (X_row > 2) and (X_col > 2):\n",
    "        word = ''.join(['X' , data[X_row-1][X_col-1] , data[X_row-2][X_col-2], data[X_row-3][X_col-3]])\n",
    "        return word == \"XMAS\"\n",
    "    else:\n",
    "        return 0"
   ]
  },
  {
   "cell_type": "markdown",
   "id": "5bebc6a7",
   "metadata": {},
   "source": [
    "Find position of all 'X' within the text , then look for all XMAS starting from these positions"
   ]
  },
  {
   "cell_type": "code",
   "execution_count": 100,
   "id": "1a42f7c4",
   "metadata": {},
   "outputs": [],
   "source": [
    "Xpositions = [(i, j) for i, row in enumerate(text) for j, char in enumerate(row) if char == \"X\"]"
   ]
  },
  {
   "cell_type": "code",
   "execution_count": 81,
   "id": "e0a2e658",
   "metadata": {},
   "outputs": [
    {
     "name": "stdout",
     "output_type": "stream",
     "text": [
      "The number of XMAS is 2464 !\n"
     ]
    }
   ],
   "source": [
    "count = 0 \n",
    "flipped_text = np.fliplr(text)\n",
    "transpose_text = text.T\n",
    "flipped_transpose_text = np.fliplr(text.T)\n",
    "\n",
    "for Xpos in Xpositions:\n",
    "    # Names of variables correspond toward where the word is going (i.e an XMAS written upward from left to right is 'NW' for north west)\n",
    "    # Horizontal forward\n",
    "    E = is_Xmas_horizontal(Xpos[0], Xpos[1] , text)\n",
    "    # Horizontal backward\n",
    "    W =  is_Xmas_horizontal(Xpos[0], text.shape[1] -(Xpos[1] +1), flipped_text)\n",
    "    # Vertical downward\n",
    "    S = is_Xmas_horizontal(Xpos[1], Xpos[0] , transpose_text)\n",
    "    # Vertical upward\n",
    "    N =  is_Xmas_horizontal(Xpos[1], text.shape[0] -(Xpos[0] +1), flipped_transpose_text)\n",
    "    # Diagonal left to right, downward\n",
    "    SE = is_Xmas_diagFWD(Xpos[0], Xpos[1] , text)\n",
    "    # Diagonal right to left, downward\n",
    "    SW =  is_Xmas_diagFWD(Xpos[0], text.shape[1] -(Xpos[1] +1), flipped_text)\n",
    "    # Diagonal right to left, upward\n",
    "    NW =  is_Xmas_diagBKWD(Xpos[0], Xpos[1] , text)\n",
    "    # Diagonal left to right, upward\n",
    "    NE =  is_Xmas_diagBKWD(Xpos[0], text.shape[1] -(Xpos[1] +1), flipped_text)\n",
    "\n",
    "    count = count + E + W + S + N + SE + SW + NW + NE\n",
    "print(f\"The number of XMAS is {count:.0f} !\")"
   ]
  },
  {
   "cell_type": "markdown",
   "id": "ad504a7a",
   "metadata": {},
   "source": [
    "-------------- PART 2 --------------"
   ]
  },
  {
   "cell_type": "markdown",
   "id": "35206f9c",
   "metadata": {},
   "source": [
    "Since the search is similar but still different, we have to redefine the search functions. Only diagonal bidirectional search"
   ]
  },
  {
   "cell_type": "code",
   "execution_count": 89,
   "id": "253cb92c",
   "metadata": {},
   "outputs": [],
   "source": [
    "def is_MAS_NWtoSE (A_row, A_col, data) : \n",
    "    word = ''.join([data[A_row-1][A_col-1] , 'A' , data[A_row+1][A_col+1] ])\n",
    "    return (word == \"MAS\") or (word[::-1] == \"MAS\")\n",
    "\n",
    "def is_MAS_NEtoSW (A_row, A_col, data) : \n",
    "    word = ''.join([data[A_row+1][A_col-1] , 'A' , data[A_row-1][A_col+1] ])\n",
    "    return (word == \"MAS\") or (word[::-1] == \"MAS\")"
   ]
  },
  {
   "cell_type": "markdown",
   "id": "32488d38",
   "metadata": {},
   "source": [
    "Find position of all 'A' within the text , then look for all MAS crosses centered around these positions"
   ]
  },
  {
   "cell_type": "code",
   "execution_count": 98,
   "id": "38444661",
   "metadata": {},
   "outputs": [],
   "source": [
    "Apositions = [(i, j) for i, row in enumerate(text) for j, char in enumerate(row) if char == \"A\"]\n",
    "# Let's remove the A that are one the edge and that cannot be part of the MAS cross\n",
    "edges = {0, text.shape[0]-1}\n",
    "good_Apositions  = [pos for pos in Apositions  if not any(val in edges for val in pos)]"
   ]
  },
  {
   "cell_type": "code",
   "execution_count": 97,
   "id": "842b7b5d",
   "metadata": {},
   "outputs": [
    {
     "name": "stdout",
     "output_type": "stream",
     "text": [
      "The number of XMAS is 1982 !\n"
     ]
    }
   ],
   "source": [
    "count = 0 \n",
    "\n",
    "for Apos in good_Apositions:\n",
    "    # Testing the diagonal NorthWest to SouthEast\n",
    "    diag1 = is_MAS_NWtoSE(Apos[0], Apos[1] , text)\n",
    "    # Testing the diagonal NorthEast to SouthWest\n",
    "    diag2 = is_MAS_NEtoSW(Apos[0], Apos[1] , text)\n",
    "\n",
    "    count = count + (diag1 and diag2)\n",
    "\n",
    "print(f\"The number of XMAS is {count:.0f} !\")"
   ]
  }
 ],
 "metadata": {
  "kernelspec": {
   "display_name": "StimEMG_RNN",
   "language": "python",
   "name": "python3"
  },
  "language_info": {
   "codemirror_mode": {
    "name": "ipython",
    "version": 3
   },
   "file_extension": ".py",
   "mimetype": "text/x-python",
   "name": "python",
   "nbconvert_exporter": "python",
   "pygments_lexer": "ipython3",
   "version": "3.8.8"
  }
 },
 "nbformat": 4,
 "nbformat_minor": 5
}
